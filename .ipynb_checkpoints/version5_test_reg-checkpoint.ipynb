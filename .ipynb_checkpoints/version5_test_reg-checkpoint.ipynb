{
 "cells": [
  {
   "cell_type": "code",
   "execution_count": 1,
   "id": "b5984f76",
   "metadata": {},
   "outputs": [],
   "source": [
    "#Import all required packages#\n",
    "import pandas as pd\n",
    "import numpy as np\n",
    "import seaborn as sns\n",
    "import matplotlib.pyplot as plt\n",
    "%matplotlib inline\n",
    "import statsmodels.api as sm\n",
    "import scipy.stats as stats\n",
    "from sklearn.model_selection import train_test_split\n",
    "from sklearn.linear_model import LinearRegression\n",
    "from sklearn.metrics import mean_squared_error\n",
    "from sklearn.tree import DecisionTreeRegressor\n",
    "from sklearn.model_selection import cross_validate"
   ]
  },
  {
   "cell_type": "code",
   "execution_count": 2,
   "id": "ec662306",
   "metadata": {},
   "outputs": [
    {
     "data": {
      "text/html": [
       "<div>\n",
       "<style scoped>\n",
       "    .dataframe tbody tr th:only-of-type {\n",
       "        vertical-align: middle;\n",
       "    }\n",
       "\n",
       "    .dataframe tbody tr th {\n",
       "        vertical-align: top;\n",
       "    }\n",
       "\n",
       "    .dataframe thead th {\n",
       "        text-align: right;\n",
       "    }\n",
       "</style>\n",
       "<table border=\"1\" class=\"dataframe\">\n",
       "  <thead>\n",
       "    <tr style=\"text-align: right;\">\n",
       "      <th></th>\n",
       "      <th>RMSD</th>\n",
       "      <th>F1</th>\n",
       "      <th>F2</th>\n",
       "      <th>F3</th>\n",
       "      <th>F4</th>\n",
       "      <th>F5</th>\n",
       "      <th>F6</th>\n",
       "      <th>F7</th>\n",
       "      <th>F8</th>\n",
       "      <th>F9</th>\n",
       "    </tr>\n",
       "  </thead>\n",
       "  <tbody>\n",
       "    <tr>\n",
       "      <th>0</th>\n",
       "      <td>17.284</td>\n",
       "      <td>13558.30</td>\n",
       "      <td>4305.35</td>\n",
       "      <td>0.31754</td>\n",
       "      <td>162.1730</td>\n",
       "      <td>1.872791e+06</td>\n",
       "      <td>215.3590</td>\n",
       "      <td>4287.87</td>\n",
       "      <td>102</td>\n",
       "      <td>27.0302</td>\n",
       "    </tr>\n",
       "    <tr>\n",
       "      <th>1</th>\n",
       "      <td>6.021</td>\n",
       "      <td>6191.96</td>\n",
       "      <td>1623.16</td>\n",
       "      <td>0.26213</td>\n",
       "      <td>53.3894</td>\n",
       "      <td>8.034467e+05</td>\n",
       "      <td>87.2024</td>\n",
       "      <td>3328.91</td>\n",
       "      <td>39</td>\n",
       "      <td>38.5468</td>\n",
       "    </tr>\n",
       "    <tr>\n",
       "      <th>2</th>\n",
       "      <td>9.275</td>\n",
       "      <td>7725.98</td>\n",
       "      <td>1726.28</td>\n",
       "      <td>0.22343</td>\n",
       "      <td>67.2887</td>\n",
       "      <td>1.075648e+06</td>\n",
       "      <td>81.7913</td>\n",
       "      <td>2981.04</td>\n",
       "      <td>29</td>\n",
       "      <td>38.8119</td>\n",
       "    </tr>\n",
       "    <tr>\n",
       "      <th>3</th>\n",
       "      <td>15.851</td>\n",
       "      <td>8424.58</td>\n",
       "      <td>2368.25</td>\n",
       "      <td>0.28111</td>\n",
       "      <td>67.8325</td>\n",
       "      <td>1.210472e+06</td>\n",
       "      <td>109.4390</td>\n",
       "      <td>3248.22</td>\n",
       "      <td>70</td>\n",
       "      <td>39.0651</td>\n",
       "    </tr>\n",
       "    <tr>\n",
       "      <th>4</th>\n",
       "      <td>7.962</td>\n",
       "      <td>7460.84</td>\n",
       "      <td>1736.94</td>\n",
       "      <td>0.23280</td>\n",
       "      <td>52.4123</td>\n",
       "      <td>1.021020e+06</td>\n",
       "      <td>94.5234</td>\n",
       "      <td>2814.42</td>\n",
       "      <td>41</td>\n",
       "      <td>39.9147</td>\n",
       "    </tr>\n",
       "  </tbody>\n",
       "</table>\n",
       "</div>"
      ],
      "text/plain": [
       "     RMSD        F1       F2       F3        F4            F5        F6  \\\n",
       "0  17.284  13558.30  4305.35  0.31754  162.1730  1.872791e+06  215.3590   \n",
       "1   6.021   6191.96  1623.16  0.26213   53.3894  8.034467e+05   87.2024   \n",
       "2   9.275   7725.98  1726.28  0.22343   67.2887  1.075648e+06   81.7913   \n",
       "3  15.851   8424.58  2368.25  0.28111   67.8325  1.210472e+06  109.4390   \n",
       "4   7.962   7460.84  1736.94  0.23280   52.4123  1.021020e+06   94.5234   \n",
       "\n",
       "        F7   F8       F9  \n",
       "0  4287.87  102  27.0302  \n",
       "1  3328.91   39  38.5468  \n",
       "2  2981.04   29  38.8119  \n",
       "3  3248.22   70  39.0651  \n",
       "4  2814.42   41  39.9147  "
      ]
     },
     "execution_count": 2,
     "metadata": {},
     "output_type": "execute_result"
    }
   ],
   "source": [
    "#Creating the first dataframe#\n",
    "\n",
    "df1=pd.read_csv('./Data/CASP.csv')\n",
    "df1.head()"
   ]
  },
  {
   "cell_type": "code",
   "execution_count": 3,
   "id": "263f7e1f",
   "metadata": {},
   "outputs": [
    {
     "name": "stdout",
     "output_type": "stream",
     "text": [
      "<class 'pandas.core.frame.DataFrame'>\n",
      "RangeIndex: 45730 entries, 0 to 45729\n",
      "Data columns (total 10 columns):\n",
      " #   Column  Non-Null Count  Dtype  \n",
      "---  ------  --------------  -----  \n",
      " 0   RMSD    45730 non-null  float64\n",
      " 1   F1      45730 non-null  float64\n",
      " 2   F2      45730 non-null  float64\n",
      " 3   F3      45730 non-null  float64\n",
      " 4   F4      45730 non-null  float64\n",
      " 5   F5      45730 non-null  float64\n",
      " 6   F6      45730 non-null  float64\n",
      " 7   F7      45730 non-null  float64\n",
      " 8   F8      45730 non-null  int64  \n",
      " 9   F9      45730 non-null  float64\n",
      "dtypes: float64(9), int64(1)\n",
      "memory usage: 3.5 MB\n"
     ]
    }
   ],
   "source": [
    "df1.info()"
   ]
  },
  {
   "cell_type": "code",
   "execution_count": 4,
   "id": "a8823816",
   "metadata": {},
   "outputs": [
    {
     "data": {
      "text/plain": [
       "(45730, 10)"
      ]
     },
     "metadata": {},
     "output_type": "display_data"
    },
    {
     "data": {
      "text/plain": [
       "False"
      ]
     },
     "metadata": {},
     "output_type": "display_data"
    },
    {
     "data": {
      "text/plain": [
       "RMSD    15903\n",
       "F1      39916\n",
       "F2      39863\n",
       "F3      20089\n",
       "F4      40374\n",
       "F5      41868\n",
       "F6      39155\n",
       "F7      39450\n",
       "F8        341\n",
       "F9      37299\n",
       "dtype: int64"
      ]
     },
     "metadata": {},
     "output_type": "display_data"
    }
   ],
   "source": [
    "#Checking shape of df1#\n",
    "display (df1.shape)\n",
    "\n",
    "#Checking for NaN values in df1#\n",
    "display(df1.isna().values.any())\n",
    "\n",
    "#Checking number of unique values for each variable#\n",
    "count = df1.nunique()\n",
    "display(count)"
   ]
  },
  {
   "cell_type": "code",
   "execution_count": 5,
   "id": "3d0dc4f2",
   "metadata": {},
   "outputs": [
    {
     "data": {
      "text/html": [
       "<div>\n",
       "<style scoped>\n",
       "    .dataframe tbody tr th:only-of-type {\n",
       "        vertical-align: middle;\n",
       "    }\n",
       "\n",
       "    .dataframe tbody tr th {\n",
       "        vertical-align: top;\n",
       "    }\n",
       "\n",
       "    .dataframe thead th {\n",
       "        text-align: right;\n",
       "    }\n",
       "</style>\n",
       "<table border=\"1\" class=\"dataframe\">\n",
       "  <thead>\n",
       "    <tr style=\"text-align: right;\">\n",
       "      <th></th>\n",
       "      <th>RMSD</th>\n",
       "      <th>F1</th>\n",
       "      <th>F2</th>\n",
       "      <th>F3</th>\n",
       "      <th>F4</th>\n",
       "      <th>F5</th>\n",
       "      <th>F6</th>\n",
       "      <th>F7</th>\n",
       "      <th>F8</th>\n",
       "      <th>F9</th>\n",
       "    </tr>\n",
       "  </thead>\n",
       "  <tbody>\n",
       "    <tr>\n",
       "      <th>count</th>\n",
       "      <td>45730.000000</td>\n",
       "      <td>45730.000000</td>\n",
       "      <td>45730.000000</td>\n",
       "      <td>45730.000000</td>\n",
       "      <td>45730.000000</td>\n",
       "      <td>4.573000e+04</td>\n",
       "      <td>45730.000000</td>\n",
       "      <td>45730.000000</td>\n",
       "      <td>45730.000000</td>\n",
       "      <td>45730.000000</td>\n",
       "    </tr>\n",
       "    <tr>\n",
       "      <th>mean</th>\n",
       "      <td>7.748528</td>\n",
       "      <td>9871.596995</td>\n",
       "      <td>3017.367175</td>\n",
       "      <td>0.302392</td>\n",
       "      <td>103.492433</td>\n",
       "      <td>1.368299e+06</td>\n",
       "      <td>145.638061</td>\n",
       "      <td>3989.755990</td>\n",
       "      <td>69.975071</td>\n",
       "      <td>34.523664</td>\n",
       "    </tr>\n",
       "    <tr>\n",
       "      <th>std</th>\n",
       "      <td>6.118312</td>\n",
       "      <td>4058.138034</td>\n",
       "      <td>1464.324663</td>\n",
       "      <td>0.062886</td>\n",
       "      <td>55.424985</td>\n",
       "      <td>5.640367e+05</td>\n",
       "      <td>69.999230</td>\n",
       "      <td>1993.574575</td>\n",
       "      <td>56.493443</td>\n",
       "      <td>5.979755</td>\n",
       "    </tr>\n",
       "    <tr>\n",
       "      <th>min</th>\n",
       "      <td>0.000000</td>\n",
       "      <td>2392.050000</td>\n",
       "      <td>403.500000</td>\n",
       "      <td>0.092500</td>\n",
       "      <td>10.310100</td>\n",
       "      <td>3.194902e+05</td>\n",
       "      <td>31.970400</td>\n",
       "      <td>0.000000</td>\n",
       "      <td>0.000000</td>\n",
       "      <td>15.228000</td>\n",
       "    </tr>\n",
       "    <tr>\n",
       "      <th>25%</th>\n",
       "      <td>2.305000</td>\n",
       "      <td>6936.680000</td>\n",
       "      <td>1979.045000</td>\n",
       "      <td>0.258740</td>\n",
       "      <td>63.563900</td>\n",
       "      <td>9.535912e+05</td>\n",
       "      <td>94.757500</td>\n",
       "      <td>3165.322500</td>\n",
       "      <td>31.000000</td>\n",
       "      <td>30.424725</td>\n",
       "    </tr>\n",
       "    <tr>\n",
       "      <th>50%</th>\n",
       "      <td>5.030000</td>\n",
       "      <td>8898.805000</td>\n",
       "      <td>2668.155000</td>\n",
       "      <td>0.300150</td>\n",
       "      <td>87.740800</td>\n",
       "      <td>1.237219e+06</td>\n",
       "      <td>126.176000</td>\n",
       "      <td>3840.170000</td>\n",
       "      <td>54.000000</td>\n",
       "      <td>35.299300</td>\n",
       "    </tr>\n",
       "    <tr>\n",
       "      <th>75%</th>\n",
       "      <td>13.379000</td>\n",
       "      <td>12126.150000</td>\n",
       "      <td>3786.410000</td>\n",
       "      <td>0.342890</td>\n",
       "      <td>133.646750</td>\n",
       "      <td>1.690920e+06</td>\n",
       "      <td>181.468500</td>\n",
       "      <td>4644.192500</td>\n",
       "      <td>91.000000</td>\n",
       "      <td>38.870800</td>\n",
       "    </tr>\n",
       "    <tr>\n",
       "      <th>max</th>\n",
       "      <td>20.999000</td>\n",
       "      <td>40034.900000</td>\n",
       "      <td>15312.000000</td>\n",
       "      <td>0.577690</td>\n",
       "      <td>369.317000</td>\n",
       "      <td>5.472011e+06</td>\n",
       "      <td>598.408000</td>\n",
       "      <td>105948.170000</td>\n",
       "      <td>350.000000</td>\n",
       "      <td>55.300900</td>\n",
       "    </tr>\n",
       "  </tbody>\n",
       "</table>\n",
       "</div>"
      ],
      "text/plain": [
       "               RMSD            F1            F2            F3            F4  \\\n",
       "count  45730.000000  45730.000000  45730.000000  45730.000000  45730.000000   \n",
       "mean       7.748528   9871.596995   3017.367175      0.302392    103.492433   \n",
       "std        6.118312   4058.138034   1464.324663      0.062886     55.424985   \n",
       "min        0.000000   2392.050000    403.500000      0.092500     10.310100   \n",
       "25%        2.305000   6936.680000   1979.045000      0.258740     63.563900   \n",
       "50%        5.030000   8898.805000   2668.155000      0.300150     87.740800   \n",
       "75%       13.379000  12126.150000   3786.410000      0.342890    133.646750   \n",
       "max       20.999000  40034.900000  15312.000000      0.577690    369.317000   \n",
       "\n",
       "                 F5            F6             F7            F8            F9  \n",
       "count  4.573000e+04  45730.000000   45730.000000  45730.000000  45730.000000  \n",
       "mean   1.368299e+06    145.638061    3989.755990     69.975071     34.523664  \n",
       "std    5.640367e+05     69.999230    1993.574575     56.493443      5.979755  \n",
       "min    3.194902e+05     31.970400       0.000000      0.000000     15.228000  \n",
       "25%    9.535912e+05     94.757500    3165.322500     31.000000     30.424725  \n",
       "50%    1.237219e+06    126.176000    3840.170000     54.000000     35.299300  \n",
       "75%    1.690920e+06    181.468500    4644.192500     91.000000     38.870800  \n",
       "max    5.472011e+06    598.408000  105948.170000    350.000000     55.300900  "
      ]
     },
     "execution_count": 5,
     "metadata": {},
     "output_type": "execute_result"
    }
   ],
   "source": [
    "#Getting the statistics for df1#\n",
    "df1.describe()"
   ]
  },
  {
   "cell_type": "markdown",
   "id": "169e3ff1",
   "metadata": {},
   "source": [
    "#### Removal of outliers"
   ]
  },
  {
   "cell_type": "code",
   "execution_count": 6,
   "id": "becb3ac2",
   "metadata": {},
   "outputs": [
    {
     "name": "stdout",
     "output_type": "stream",
     "text": [
      "DF shape with outliers (45730, 10)\n",
      "DF shape after removing outliers (41459, 10)\n"
     ]
    }
   ],
   "source": [
    "# Removing outliers with IQR and creating new dataframe#\n",
    "print('DF shape with outliers',  df1.shape)\n",
    "     \n",
    "cols = ['F1','F2','F3','F4','F5','F6','F7','F8','F9']\n",
    "\n",
    "Q1 = df1[cols].quantile(0.25)\n",
    "Q3 = df1[cols].quantile(0.75)\n",
    "IQR = Q3 - Q1\n",
    "\n",
    "df2 = df1[~((df1[cols] < (Q1 - 1.5 * IQR)) |(df1[cols] > (Q3 + 1.5 * IQR))).any(axis=1)]\n",
    "print('DF shape after removing outliers',  df2.shape)"
   ]
  },
  {
   "cell_type": "code",
   "execution_count": 7,
   "id": "408c236f",
   "metadata": {},
   "outputs": [
    {
     "data": {
      "text/html": [
       "<div>\n",
       "<style scoped>\n",
       "    .dataframe tbody tr th:only-of-type {\n",
       "        vertical-align: middle;\n",
       "    }\n",
       "\n",
       "    .dataframe tbody tr th {\n",
       "        vertical-align: top;\n",
       "    }\n",
       "\n",
       "    .dataframe thead th {\n",
       "        text-align: right;\n",
       "    }\n",
       "</style>\n",
       "<table border=\"1\" class=\"dataframe\">\n",
       "  <thead>\n",
       "    <tr style=\"text-align: right;\">\n",
       "      <th></th>\n",
       "      <th>RMSD</th>\n",
       "      <th>F1</th>\n",
       "      <th>F2</th>\n",
       "      <th>F3</th>\n",
       "      <th>F4</th>\n",
       "      <th>F5</th>\n",
       "      <th>F6</th>\n",
       "      <th>F7</th>\n",
       "      <th>F8</th>\n",
       "      <th>F9</th>\n",
       "    </tr>\n",
       "  </thead>\n",
       "  <tbody>\n",
       "    <tr>\n",
       "      <th>count</th>\n",
       "      <td>41459.000000</td>\n",
       "      <td>41459.000000</td>\n",
       "      <td>41459.000000</td>\n",
       "      <td>41459.000000</td>\n",
       "      <td>41459.000000</td>\n",
       "      <td>4.145900e+04</td>\n",
       "      <td>41459.000000</td>\n",
       "      <td>41459.000000</td>\n",
       "      <td>41459.000000</td>\n",
       "      <td>41459.000000</td>\n",
       "    </tr>\n",
       "    <tr>\n",
       "      <th>mean</th>\n",
       "      <td>7.766480</td>\n",
       "      <td>9117.339400</td>\n",
       "      <td>2749.260475</td>\n",
       "      <td>0.299416</td>\n",
       "      <td>93.619470</td>\n",
       "      <td>1.265463e+06</td>\n",
       "      <td>132.387787</td>\n",
       "      <td>3742.477090</td>\n",
       "      <td>58.834294</td>\n",
       "      <td>35.417579</td>\n",
       "    </tr>\n",
       "    <tr>\n",
       "      <th>std</th>\n",
       "      <td>6.065987</td>\n",
       "      <td>3168.727533</td>\n",
       "      <td>1151.330998</td>\n",
       "      <td>0.061170</td>\n",
       "      <td>43.725481</td>\n",
       "      <td>4.449418e+05</td>\n",
       "      <td>54.724187</td>\n",
       "      <td>952.455393</td>\n",
       "      <td>39.704148</td>\n",
       "      <td>5.207610</td>\n",
       "    </tr>\n",
       "    <tr>\n",
       "      <th>min</th>\n",
       "      <td>0.000000</td>\n",
       "      <td>2392.050000</td>\n",
       "      <td>513.410000</td>\n",
       "      <td>0.133140</td>\n",
       "      <td>10.310100</td>\n",
       "      <td>3.194902e+05</td>\n",
       "      <td>31.970400</td>\n",
       "      <td>1089.190000</td>\n",
       "      <td>0.000000</td>\n",
       "      <td>18.069600</td>\n",
       "    </tr>\n",
       "    <tr>\n",
       "      <th>25%</th>\n",
       "      <td>2.283000</td>\n",
       "      <td>6763.835000</td>\n",
       "      <td>1915.690000</td>\n",
       "      <td>0.256170</td>\n",
       "      <td>62.093050</td>\n",
       "      <td>9.290097e+05</td>\n",
       "      <td>92.135450</td>\n",
       "      <td>3109.020000</td>\n",
       "      <td>29.000000</td>\n",
       "      <td>32.164000</td>\n",
       "    </tr>\n",
       "    <tr>\n",
       "      <th>50%</th>\n",
       "      <td>5.195000</td>\n",
       "      <td>8559.520000</td>\n",
       "      <td>2537.730000</td>\n",
       "      <td>0.297510</td>\n",
       "      <td>82.777200</td>\n",
       "      <td>1.190385e+06</td>\n",
       "      <td>119.799000</td>\n",
       "      <td>3739.620000</td>\n",
       "      <td>49.000000</td>\n",
       "      <td>35.884600</td>\n",
       "    </tr>\n",
       "    <tr>\n",
       "      <th>75%</th>\n",
       "      <td>13.382500</td>\n",
       "      <td>11018.250000</td>\n",
       "      <td>3417.915000</td>\n",
       "      <td>0.340990</td>\n",
       "      <td>115.474500</td>\n",
       "      <td>1.533902e+06</td>\n",
       "      <td>163.541500</td>\n",
       "      <td>4416.135000</td>\n",
       "      <td>79.000000</td>\n",
       "      <td>39.104650</td>\n",
       "    </tr>\n",
       "    <tr>\n",
       "      <th>max</th>\n",
       "      <td>20.999000</td>\n",
       "      <td>19760.500000</td>\n",
       "      <td>6496.520000</td>\n",
       "      <td>0.469070</td>\n",
       "      <td>238.735000</td>\n",
       "      <td>2.786190e+06</td>\n",
       "      <td>311.197000</td>\n",
       "      <td>6854.930000</td>\n",
       "      <td>181.000000</td>\n",
       "      <td>48.202800</td>\n",
       "    </tr>\n",
       "  </tbody>\n",
       "</table>\n",
       "</div>"
      ],
      "text/plain": [
       "               RMSD            F1            F2            F3            F4  \\\n",
       "count  41459.000000  41459.000000  41459.000000  41459.000000  41459.000000   \n",
       "mean       7.766480   9117.339400   2749.260475      0.299416     93.619470   \n",
       "std        6.065987   3168.727533   1151.330998      0.061170     43.725481   \n",
       "min        0.000000   2392.050000    513.410000      0.133140     10.310100   \n",
       "25%        2.283000   6763.835000   1915.690000      0.256170     62.093050   \n",
       "50%        5.195000   8559.520000   2537.730000      0.297510     82.777200   \n",
       "75%       13.382500  11018.250000   3417.915000      0.340990    115.474500   \n",
       "max       20.999000  19760.500000   6496.520000      0.469070    238.735000   \n",
       "\n",
       "                 F5            F6            F7            F8            F9  \n",
       "count  4.145900e+04  41459.000000  41459.000000  41459.000000  41459.000000  \n",
       "mean   1.265463e+06    132.387787   3742.477090     58.834294     35.417579  \n",
       "std    4.449418e+05     54.724187    952.455393     39.704148      5.207610  \n",
       "min    3.194902e+05     31.970400   1089.190000      0.000000     18.069600  \n",
       "25%    9.290097e+05     92.135450   3109.020000     29.000000     32.164000  \n",
       "50%    1.190385e+06    119.799000   3739.620000     49.000000     35.884600  \n",
       "75%    1.533902e+06    163.541500   4416.135000     79.000000     39.104650  \n",
       "max    2.786190e+06    311.197000   6854.930000    181.000000     48.202800  "
      ]
     },
     "execution_count": 7,
     "metadata": {},
     "output_type": "execute_result"
    }
   ],
   "source": [
    "df2.describe()"
   ]
  },
  {
   "cell_type": "markdown",
   "id": "f393f341",
   "metadata": {},
   "source": [
    "### Step 2: Baseline model (Iteration 1)\n",
    "Perform multilinear Ordinary Least Squares (OLS) regression, create a baseline model and test assumptions of regression in that model."
   ]
  },
  {
   "cell_type": "markdown",
   "id": "be48f6db",
   "metadata": {},
   "source": [
    "#### Create the Baseline model"
   ]
  },
  {
   "cell_type": "code",
   "execution_count": 8,
   "id": "f6658b93",
   "metadata": {},
   "outputs": [
    {
     "data": {
      "text/html": [
       "<table class=\"simpletable\">\n",
       "<caption>OLS Regression Results</caption>\n",
       "<tr>\n",
       "  <th>Dep. Variable:</th>          <td>RMSD</td>       <th>  R-squared:         </th>  <td>   0.290</td>  \n",
       "</tr>\n",
       "<tr>\n",
       "  <th>Model:</th>                   <td>OLS</td>       <th>  Adj. R-squared:    </th>  <td>   0.290</td>  \n",
       "</tr>\n",
       "<tr>\n",
       "  <th>Method:</th>             <td>Least Squares</td>  <th>  F-statistic:       </th>  <td>   1883.</td>  \n",
       "</tr>\n",
       "<tr>\n",
       "  <th>Date:</th>             <td>Sat, 22 Jul 2023</td> <th>  Prob (F-statistic):</th>   <td>  0.00</td>   \n",
       "</tr>\n",
       "<tr>\n",
       "  <th>Time:</th>                 <td>02:15:53</td>     <th>  Log-Likelihood:    </th> <td>-1.2646e+05</td>\n",
       "</tr>\n",
       "<tr>\n",
       "  <th>No. Observations:</th>      <td> 41459</td>      <th>  AIC:               </th>  <td>2.529e+05</td> \n",
       "</tr>\n",
       "<tr>\n",
       "  <th>Df Residuals:</th>          <td> 41449</td>      <th>  BIC:               </th>  <td>2.530e+05</td> \n",
       "</tr>\n",
       "<tr>\n",
       "  <th>Df Model:</th>              <td>     9</td>      <th>                     </th>      <td> </td>     \n",
       "</tr>\n",
       "<tr>\n",
       "  <th>Covariance Type:</th>      <td>nonrobust</td>    <th>                     </th>      <td> </td>     \n",
       "</tr>\n",
       "</table>\n",
       "<table class=\"simpletable\">\n",
       "<tr>\n",
       "    <td></td>       <th>coef</th>     <th>std err</th>      <th>t</th>      <th>P>|t|</th>  <th>[0.025</th>    <th>0.975]</th>  \n",
       "</tr>\n",
       "<tr>\n",
       "  <th>const</th> <td>    6.9420</td> <td>    0.793</td> <td>    8.759</td> <td> 0.000</td> <td>    5.389</td> <td>    8.495</td>\n",
       "</tr>\n",
       "<tr>\n",
       "  <th>F1</th>    <td>    0.0024</td> <td>    0.000</td> <td>   17.504</td> <td> 0.000</td> <td>    0.002</td> <td>    0.003</td>\n",
       "</tr>\n",
       "<tr>\n",
       "  <th>F2</th>    <td>    0.0028</td> <td>    0.000</td> <td>   19.395</td> <td> 0.000</td> <td>    0.002</td> <td>    0.003</td>\n",
       "</tr>\n",
       "<tr>\n",
       "  <th>F3</th>    <td>    5.3124</td> <td>    1.275</td> <td>    4.165</td> <td> 0.000</td> <td>    2.813</td> <td>    7.812</td>\n",
       "</tr>\n",
       "<tr>\n",
       "  <th>F4</th>    <td>   -0.1294</td> <td>    0.002</td> <td>  -65.650</td> <td> 0.000</td> <td>   -0.133</td> <td>   -0.125</td>\n",
       "</tr>\n",
       "<tr>\n",
       "  <th>F5</th>    <td>-9.979e-06</td> <td> 8.52e-07</td> <td>  -11.716</td> <td> 0.000</td> <td>-1.16e-05</td> <td>-8.31e-06</td>\n",
       "</tr>\n",
       "<tr>\n",
       "  <th>F6</th>    <td>   -0.0279</td> <td>    0.002</td> <td>  -13.764</td> <td> 0.000</td> <td>   -0.032</td> <td>   -0.024</td>\n",
       "</tr>\n",
       "<tr>\n",
       "  <th>F7</th>    <td>   -0.0004</td> <td> 6.47e-05</td> <td>   -5.497</td> <td> 0.000</td> <td>   -0.000</td> <td>   -0.000</td>\n",
       "</tr>\n",
       "<tr>\n",
       "  <th>F8</th>    <td>    0.0261</td> <td>    0.001</td> <td>   33.857</td> <td> 0.000</td> <td>    0.025</td> <td>    0.028</td>\n",
       "</tr>\n",
       "<tr>\n",
       "  <th>F9</th>    <td>   -0.0688</td> <td>    0.013</td> <td>   -5.130</td> <td> 0.000</td> <td>   -0.095</td> <td>   -0.043</td>\n",
       "</tr>\n",
       "</table>\n",
       "<table class=\"simpletable\">\n",
       "<tr>\n",
       "  <th>Omnibus:</th>       <td>1468.590</td> <th>  Durbin-Watson:     </th> <td>   2.002</td> \n",
       "</tr>\n",
       "<tr>\n",
       "  <th>Prob(Omnibus):</th>  <td> 0.000</td>  <th>  Jarque-Bera (JB):  </th> <td>1350.073</td> \n",
       "</tr>\n",
       "<tr>\n",
       "  <th>Skew:</th>           <td> 0.390</td>  <th>  Prob(JB):          </th> <td>6.84e-294</td>\n",
       "</tr>\n",
       "<tr>\n",
       "  <th>Kurtosis:</th>       <td> 2.583</td>  <th>  Cond. No.          </th> <td>7.22e+07</td> \n",
       "</tr>\n",
       "</table><br/><br/>Notes:<br/>[1] Standard Errors assume that the covariance matrix of the errors is correctly specified.<br/>[2] The condition number is large, 7.22e+07. This might indicate that there are<br/>strong multicollinearity or other numerical problems."
      ],
      "text/plain": [
       "<class 'statsmodels.iolib.summary.Summary'>\n",
       "\"\"\"\n",
       "                            OLS Regression Results                            \n",
       "==============================================================================\n",
       "Dep. Variable:                   RMSD   R-squared:                       0.290\n",
       "Model:                            OLS   Adj. R-squared:                  0.290\n",
       "Method:                 Least Squares   F-statistic:                     1883.\n",
       "Date:                Sat, 22 Jul 2023   Prob (F-statistic):               0.00\n",
       "Time:                        02:15:53   Log-Likelihood:            -1.2646e+05\n",
       "No. Observations:               41459   AIC:                         2.529e+05\n",
       "Df Residuals:                   41449   BIC:                         2.530e+05\n",
       "Df Model:                           9                                         \n",
       "Covariance Type:            nonrobust                                         \n",
       "==============================================================================\n",
       "                 coef    std err          t      P>|t|      [0.025      0.975]\n",
       "------------------------------------------------------------------------------\n",
       "const          6.9420      0.793      8.759      0.000       5.389       8.495\n",
       "F1             0.0024      0.000     17.504      0.000       0.002       0.003\n",
       "F2             0.0028      0.000     19.395      0.000       0.002       0.003\n",
       "F3             5.3124      1.275      4.165      0.000       2.813       7.812\n",
       "F4            -0.1294      0.002    -65.650      0.000      -0.133      -0.125\n",
       "F5         -9.979e-06   8.52e-07    -11.716      0.000   -1.16e-05   -8.31e-06\n",
       "F6            -0.0279      0.002    -13.764      0.000      -0.032      -0.024\n",
       "F7            -0.0004   6.47e-05     -5.497      0.000      -0.000      -0.000\n",
       "F8             0.0261      0.001     33.857      0.000       0.025       0.028\n",
       "F9            -0.0688      0.013     -5.130      0.000      -0.095      -0.043\n",
       "==============================================================================\n",
       "Omnibus:                     1468.590   Durbin-Watson:                   2.002\n",
       "Prob(Omnibus):                  0.000   Jarque-Bera (JB):             1350.073\n",
       "Skew:                           0.390   Prob(JB):                    6.84e-294\n",
       "Kurtosis:                       2.583   Cond. No.                     7.22e+07\n",
       "==============================================================================\n",
       "\n",
       "Notes:\n",
       "[1] Standard Errors assume that the covariance matrix of the errors is correctly specified.\n",
       "[2] The condition number is large, 7.22e+07. This might indicate that there are\n",
       "strong multicollinearity or other numerical problems.\n",
       "\"\"\""
      ]
     },
     "execution_count": 8,
     "metadata": {},
     "output_type": "execute_result"
    }
   ],
   "source": [
    "#Baseline model#\n",
    "\n",
    "X1 = df2.drop('RMSD',axis=1)\n",
    "y1 = df2['RMSD']\n",
    "X1_int = sm.add_constant(X1)\n",
    "model1 = sm.OLS(y1,X1_int).fit()\n",
    "model1.summary()"
   ]
  },
  {
   "cell_type": "code",
   "execution_count": 9,
   "id": "a1816ca6",
   "metadata": {},
   "outputs": [
    {
     "name": "stdout",
     "output_type": "stream",
     "text": [
      "SIZES OF THE TRAIN-TEST SPLIT\n",
      "\n",
      "Independent variables: Training: 33167   Test: 8292\n",
      "Dependent variable: Training: 33167   Test: 8292\n",
      "\n",
      "PREDICTED OUTPUT:\n",
      "\n",
      "[[ 6.19456579]\n",
      " [16.14956125]\n",
      " [10.97386711]\n",
      " ...\n",
      " [20.78165121]\n",
      " [ 1.56176226]\n",
      " [ 6.64169364]]\n",
      "\n",
      "ACCURACY of MODEL: 0.27546723825388264\n"
     ]
    }
   ],
   "source": [
    "#Performing train-test split#\n",
    "\n",
    "y3=df2[['RMSD']]\n",
    "X3=df2.drop(['RMSD'],axis=1)\n",
    "X3_train, X3_test, y3_train, y3_test = train_test_split(X3, y3, test_size=0.2, random_state=42)\n",
    "print('SIZES OF THE TRAIN-TEST SPLIT')\n",
    "print()\n",
    "print('Independent variables:','Training:', len(X3_train),\" \",'Test:', len(X3_test))\n",
    "print('Dependent variable:','Training:', len(y3_train),\" \", 'Test:', len(y3_test))\n",
    "print()\n",
    "\n",
    "Prot = LinearRegression()\n",
    "Prot.fit(X3_train,y3_train)\n",
    "print ('PREDICTED OUTPUT:')\n",
    "print()\n",
    "print(Prot.predict(X3_test))\n",
    "print()\n",
    "print ('ACCURACY of MODEL:',Prot.score(X3_test,y3_test))"
   ]
  },
  {
   "cell_type": "code",
   "execution_count": 10,
   "id": "16f95a95",
   "metadata": {},
   "outputs": [
    {
     "name": "stdout",
     "output_type": "stream",
     "text": [
      "Train Mean Squared Error: 26.03532253580084\n",
      "\n",
      "Test Mean Squared Error: 26.457969613142502\n"
     ]
    }
   ],
   "source": [
    "#Getting Mean Squared Errors (MSE) for Train-Test split#\n",
    "\n",
    "y_hat_train = Prot.predict(X3_train)\n",
    "y_hat_test = Prot.predict(X3_test)\n",
    "train_mse = mean_squared_error(y3_train, y_hat_train)\n",
    "test_mse = mean_squared_error(y3_test, y_hat_test)\n",
    "print('Train Mean Squared Error:', train_mse)\n",
    "print()\n",
    "print('Test Mean Squared Error:', test_mse)"
   ]
  },
  {
   "cell_type": "code",
   "execution_count": 33,
   "id": "e6dabea2",
   "metadata": {},
   "outputs": [
    {
     "name": "stdout",
     "output_type": "stream",
     "text": [
      "5.102481997596938\n",
      "5.143731098448139\n"
     ]
    }
   ],
   "source": [
    "TRMSE=np.sqrt(train_mse)\n",
    "TERMSE=np.sqrt(test_mse)\n",
    "print (TRMSE)\n",
    "print (TERMSE)"
   ]
  },
  {
   "cell_type": "code",
   "execution_count": 11,
   "id": "2ab64c21",
   "metadata": {},
   "outputs": [
    {
     "name": "stdout",
     "output_type": "stream",
     "text": [
      "R-SQUARED VALUES FOR TRAIN-TEST SPLIT\n",
      "\n",
      "Training data: 0.293746567174051\n",
      "Test data: 0.27546723825388264\n"
     ]
    }
   ],
   "source": [
    "#Checking the R-squared values for train-test split#\n",
    "\n",
    "print('R-SQUARED VALUES FOR TRAIN-TEST SPLIT')\n",
    "print()\n",
    "print('Training data:',Prot.score(X3_train, y3_train))\n",
    "print('Test data:',Prot.score(X3_test, y3_test))"
   ]
  },
  {
   "cell_type": "code",
   "execution_count": 12,
   "id": "a358b4c3",
   "metadata": {},
   "outputs": [
    {
     "name": "stdout",
     "output_type": "stream",
     "text": [
      "MSE VALUES FOR TRAINING AND TEST DATA OVER 10 SPLITS\n",
      "\n",
      "Training data: [26.04511859 26.17376051 26.17622209 26.17447891 26.13009541 26.07394556\n",
      " 26.03721729 26.11543545 26.12730573 26.12556292]\n",
      "\n",
      "Test data: [26.79308255 25.64307329 25.60707141 25.62537808 26.02826329 26.52869367\n",
      " 26.86402297 26.15915975 26.05073163 26.06097087]\n"
     ]
    }
   ],
   "source": [
    "#Comparing MSE values for training and test data over 10 splits# \n",
    "\n",
    "cvr = cross_validate(Prot, X3, y3,cv=10, scoring=\"neg_mean_squared_error\", return_train_score=True)\n",
    "train_MSE = -cvr[\"train_score\"]\n",
    "test_MSE = -cvr[\"test_score\"]\n",
    "\n",
    "print('MSE VALUES FOR TRAINING AND TEST DATA OVER 10 SPLITS')\n",
    "print ()\n",
    "print('Training data:', train_MSE)\n",
    "print()\n",
    "print('Test data:',test_MSE)"
   ]
  },
  {
   "cell_type": "code",
   "execution_count": 42,
   "id": "7b4f2efb",
   "metadata": {},
   "outputs": [
    {
     "name": "stdout",
     "output_type": "stream",
     "text": [
      "5.110568876934114\n"
     ]
    }
   ],
   "source": [
    "kfold=train_MSE.mean()\n",
    "print (np.sqrt(kfold))"
   ]
  },
  {
   "cell_type": "code",
   "execution_count": 13,
   "id": "b0ab5d46",
   "metadata": {},
   "outputs": [
    {
     "name": "stdout",
     "output_type": "stream",
     "text": [
      "R-SQUARED VALUES FOR TRAINING AND TEST DATA OVER 10 SPLITS\n",
      "\n",
      "Training data: [0.29118179 0.28974301 0.28961719 0.29074527 0.29097718 0.29130492\n",
      " 0.29055789 0.28826069 0.28946956 0.28992374]\n",
      "\n",
      "Test data: [0.28077568 0.29339067 0.29442891 0.28418663 0.28205272 0.27945101\n",
      " 0.28426216 0.30611949 0.29564787 0.29219254]\n"
     ]
    }
   ],
   "source": [
    "#Comparing R-Squared values for training and test data over 10 splits# \n",
    "\n",
    "cvr2 = cross_validate(Prot, X3, y3,cv=10, scoring=\"r2\", return_train_score=True)\n",
    "train1=cvr2[\"train_score\"]\n",
    "test1=cvr2[\"test_score\"]\n",
    "\n",
    "print('R-SQUARED VALUES FOR TRAINING AND TEST DATA OVER 10 SPLITS')\n",
    "print ()\n",
    "print('Training data:', train1)\n",
    "print()\n",
    "print('Test data:',test1)"
   ]
  },
  {
   "cell_type": "code",
   "execution_count": null,
   "id": "0a8157ec",
   "metadata": {},
   "outputs": [],
   "source": [
    "from sklearn.ensemble import RandomForestRegressor"
   ]
  },
  {
   "cell_type": "code",
   "execution_count": 43,
   "id": "4b6dad2d",
   "metadata": {},
   "outputs": [
    {
     "name": "stderr",
     "output_type": "stream",
     "text": [
      "C:\\Users\\ravin\\AppData\\Local\\Temp\\ipykernel_6676\\277182762.py:5: DataConversionWarning: A column-vector y was passed when a 1d array was expected. Please change the shape of y to (n_samples,), for example using ravel().\n",
      "  for_reg.fit(X3_train,y3_train)\n"
     ]
    },
    {
     "name": "stdout",
     "output_type": "stream",
     "text": [
      "RANDOM FOREST REGRESSOR MODEL ERROR RESULTS\n",
      "\n",
      "Mean Squared Error: 12.012106346138834\n",
      "Root Mean Squared Error: 3.4658485751888866\n"
     ]
    }
   ],
   "source": [
    "#Getting Random Forest Regressor Model MSE and RMSE#\n",
    "from sklearn.ensemble import RandomForestRegressor\n",
    "\n",
    "for_reg = RandomForestRegressor(random_state=42,n_jobs=16)\n",
    "for_reg.fit(X3_train,y3_train)\n",
    "\n",
    "forpred = forest_reg.predict(X3_test)\n",
    "for_mse = mean_squared_error(y3_test, forpred)\n",
    "Test_RMSE=np.sqrt(for_mse)\n",
    "print('RANDOM FOREST REGRESSOR MODEL ERROR RESULTS')\n",
    "print ()\n",
    "print('Mean Squared Error:',for_mse)\n",
    "print('Root Mean Squared Error:',Test_RMSE)"
   ]
  },
  {
   "cell_type": "code",
   "execution_count": 44,
   "id": "46079962",
   "metadata": {},
   "outputs": [
    {
     "name": "stdout",
     "output_type": "stream",
     "text": [
      "Train Mean Squared Error: 0.022718869302821076\n",
      "Test Mean Squared Error: 24.05974381748807\n"
     ]
    }
   ],
   "source": [
    "#Checking MSE with Decision Tree Regressor#\n",
    "\n",
    "Prot1 = LinearRegression()\n",
    "Prot1.fit(X3_train,y3_train)\n",
    "Prot1 = DecisionTreeRegressor(random_state=42)\n",
    "Prot1.fit(X3_train, y3_train)\n",
    "\n",
    "Prot1_train_mse = mean_squared_error(y3_train, Prot1.predict(X3_train))\n",
    "Prot1_test_mse = mean_squared_error(y3_test, Prot1.predict(X3_test))\n",
    "print('Train Mean Squared Error:', Prot1_train_mse)\n",
    "print('Test Mean Squared Error:', Prot1_test_mse)"
   ]
  },
  {
   "cell_type": "code",
   "execution_count": null,
   "id": "a53b5d5c",
   "metadata": {},
   "outputs": [],
   "source": []
  }
 ],
 "metadata": {
  "kernelspec": {
   "display_name": "Python 3 (ipykernel)",
   "language": "python",
   "name": "python3"
  },
  "language_info": {
   "codemirror_mode": {
    "name": "ipython",
    "version": 3
   },
   "file_extension": ".py",
   "mimetype": "text/x-python",
   "name": "python",
   "nbconvert_exporter": "python",
   "pygments_lexer": "ipython3",
   "version": "3.10.9"
  }
 },
 "nbformat": 4,
 "nbformat_minor": 5
}
